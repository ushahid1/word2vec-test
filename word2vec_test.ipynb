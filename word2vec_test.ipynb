{
 "cells": [
  {
   "cell_type": "code",
   "execution_count": 1,
   "metadata": {},
   "outputs": [
    {
     "name": "stdout",
     "output_type": "stream",
     "text": [
      "we are in machine learning group machine learning group is in school of computing the school of computing is a computer science school in uef the campus of uef is in joensuu\n",
      "we\n",
      "are\n",
      "in\n",
      "machine\n",
      "learning\n",
      "group\n",
      "machine\n",
      "learning\n",
      "group\n",
      "is\n",
      "in\n",
      "school\n",
      "of\n",
      "computing\n",
      "the\n",
      "school\n",
      "of\n",
      "computing\n",
      "is\n",
      "a\n",
      "computer\n",
      "science\n",
      "school\n",
      "in\n",
      "uef\n",
      "the\n",
      "campus\n",
      "of\n",
      "uef\n",
      "is\n",
      "in\n",
      "joensuu\n"
     ]
    }
   ],
   "source": [
    "import numpy as np\n",
    "import tensorflow as tf\n",
    "\n",
    "#corpus_raw = \"He is the king. The king is royal. She is the royal queen\"\n",
    "corpus_raw = \"We are in machine learning group. Machine learning group is in school of computing. The School of computing is a computer science school in UEF. The campus of UEF is in Joensuu.\"\n",
    "corpus_raw = corpus_raw.lower()\n",
    "corpus_raw2 = corpus_raw\n",
    "\n",
    "corpus_raw2= corpus_raw2.replace('.',\"\")\n",
    "print(corpus_raw2)\n",
    "\n",
    "words = []\n",
    "\n",
    "for word in corpus_raw2.split():\n",
    "    print (word)\n",
    "    if word != '.':\n",
    "        words.append(word)\n",
    "    else :\n",
    "        print ('true')\n",
    "\n",
    "#words = words.replace('.',\"\")\n",
    "words = set(words)\n",
    "\n"
   ]
  },
  {
   "cell_type": "code",
   "execution_count": 2,
   "metadata": {
    "scrolled": true
   },
   "outputs": [
    {
     "name": "stdout",
     "output_type": "stream",
     "text": [
      "17\n",
      "0 a\n",
      "1 machine\n",
      "2 are\n",
      "3 the\n",
      "4 computer\n",
      "5 we\n",
      "6 uef\n",
      "7 campus\n",
      "8 in\n",
      "9 computing\n",
      "10 joensuu\n",
      "11 school\n",
      "12 group\n",
      "13 is\n",
      "14 learning\n",
      "15 science\n",
      "16 of\n",
      "['we are in machine learning group', ' machine learning group is in school of computing', ' the school of computing is a computer science school in uef', ' the campus of uef is in joensuu', '']\n",
      "[['we', 'are', 'in', 'machine', 'learning', 'group'], ['machine', 'learning', 'group', 'is', 'in', 'school', 'of', 'computing'], ['the', 'school', 'of', 'computing', 'is', 'a', 'computer', 'science', 'school', 'in', 'uef'], ['the', 'campus', 'of', 'uef', 'is', 'in', 'joensuu'], []]\n"
     ]
    }
   ],
   "source": [
    "word2int ={}\n",
    "int2word ={}\n",
    "\n",
    "vocab_size = len(words)\n",
    "\n",
    "print (vocab_size)\n",
    "\n",
    "for i, word in enumerate(words):\n",
    "    print(i, word)\n",
    "    word2int[word] =i\n",
    "    int2word[i] = word\n",
    "\n",
    "#print(word2int['queen'])\n",
    "\n",
    "\n",
    "raw_sentences = corpus_raw.split('.')\n",
    "print (raw_sentences)\n",
    "\n",
    "sentences =[]\n",
    "for sentence in raw_sentences:\n",
    "    sentences.append(sentence.split())\n",
    "\n",
    "print(sentences)\n",
    "\n",
    "\n",
    "\n"
   ]
  },
  {
   "cell_type": "code",
   "execution_count": 3,
   "metadata": {},
   "outputs": [
    {
     "name": "stdout",
     "output_type": "stream",
     "text": [
      "[['we', 'are'], ['we', 'in'], ['are', 'we'], ['are', 'in'], ['are', 'machine'], ['in', 'we'], ['in', 'are'], ['in', 'machine'], ['in', 'learning'], ['machine', 'are'], ['machine', 'in'], ['machine', 'learning'], ['machine', 'group'], ['learning', 'in'], ['learning', 'machine'], ['learning', 'group'], ['group', 'machine'], ['group', 'learning'], ['machine', 'learning'], ['machine', 'group'], ['learning', 'machine'], ['learning', 'group'], ['learning', 'is'], ['group', 'machine'], ['group', 'learning'], ['group', 'is'], ['group', 'in'], ['is', 'learning'], ['is', 'group'], ['is', 'in'], ['is', 'school'], ['in', 'group'], ['in', 'is'], ['in', 'school'], ['in', 'of'], ['school', 'is'], ['school', 'in'], ['school', 'of'], ['school', 'computing'], ['of', 'in'], ['of', 'school'], ['of', 'computing'], ['computing', 'school'], ['computing', 'of'], ['the', 'school'], ['the', 'of'], ['school', 'the'], ['school', 'of'], ['school', 'computing'], ['of', 'the'], ['of', 'school'], ['of', 'computing'], ['of', 'is'], ['computing', 'school'], ['computing', 'of'], ['computing', 'is'], ['computing', 'a'], ['is', 'of'], ['is', 'computing'], ['is', 'a'], ['is', 'computer'], ['a', 'computing'], ['a', 'is'], ['a', 'computer'], ['a', 'science'], ['computer', 'is'], ['computer', 'a'], ['computer', 'science'], ['computer', 'school'], ['science', 'a'], ['science', 'computer'], ['science', 'school'], ['science', 'in'], ['school', 'computer'], ['school', 'science'], ['school', 'in'], ['school', 'uef'], ['in', 'science'], ['in', 'school'], ['in', 'uef'], ['uef', 'school'], ['uef', 'in'], ['the', 'campus'], ['the', 'of'], ['campus', 'the'], ['campus', 'of'], ['campus', 'uef'], ['of', 'the'], ['of', 'campus'], ['of', 'uef'], ['of', 'is'], ['uef', 'campus'], ['uef', 'of'], ['uef', 'is'], ['uef', 'in'], ['is', 'of'], ['is', 'uef'], ['is', 'in'], ['is', 'joensuu'], ['in', 'uef'], ['in', 'is'], ['in', 'joensuu'], ['joensuu', 'is'], ['joensuu', 'in']]\n",
      "[[0. 0. 0. ... 0. 0. 0.]\n",
      " [0. 0. 0. ... 0. 0. 0.]\n",
      " [0. 0. 1. ... 0. 0. 0.]\n",
      " ...\n",
      " [0. 0. 0. ... 0. 0. 0.]\n",
      " [0. 0. 0. ... 0. 0. 0.]\n",
      " [0. 0. 0. ... 0. 0. 0.]] [[0. 0. 1. ... 0. 0. 0.]\n",
      " [0. 0. 0. ... 0. 0. 0.]\n",
      " [0. 0. 0. ... 0. 0. 0.]\n",
      " ...\n",
      " [0. 0. 0. ... 0. 0. 0.]\n",
      " [0. 0. 0. ... 0. 0. 0.]\n",
      " [0. 0. 0. ... 0. 0. 0.]]\n",
      "(104, 17) (104, 17)\n"
     ]
    }
   ],
   "source": [
    "data =[]\n",
    "WINDOW_SIZE = 2\n",
    "\n",
    "for sentence in sentences:\n",
    "    for word_index, word in enumerate(sentence):\n",
    "        for nb_word in sentence[max(word_index - WINDOW_SIZE,0): min(word_index + WINDOW_SIZE, len(sentence)) + 1]:\n",
    "            if nb_word != word:\n",
    "                data.append([word,nb_word])\n",
    "\n",
    "print (data)\n",
    "\n",
    "def to_one_hot(data_point_index, vocab_size):\n",
    "    temp= np.zeros(vocab_size)\n",
    "    temp[data_point_index]=1\n",
    "    return temp\n",
    "\n",
    "x_train =[]\n",
    "y_train =[]\n",
    "\n",
    "for data_word in data:\n",
    "    x_train.append(to_one_hot(word2int[data_word[0]],vocab_size))\n",
    "    y_train.append(to_one_hot(word2int[data_word[1]],vocab_size))\n",
    "\n",
    "x_train = np.asarray(x_train)\n",
    "y_train = np.asarray(y_train)\n",
    "\n",
    "print(x_train, y_train)\n",
    "\n",
    "print (x_train.shape, y_train.shape)\n",
    "\n"
   ]
  },
  {
   "cell_type": "code",
   "execution_count": 28,
   "metadata": {},
   "outputs": [
    {
     "name": "stdout",
     "output_type": "stream",
     "text": [
      "[[-0.90539587  1.3621744   0.5660251  -0.15759684 -0.8262558 ]\n",
      " [-1.0209912   0.93073595 -0.35726613 -1.6683906  -1.9246007 ]\n",
      " [-0.1490388  -0.08860212 -0.40857008  0.17801936 -1.0575674 ]\n",
      " [ 1.2584777  -1.3237897   0.11202912  1.3168924   0.9831582 ]\n",
      " [ 3.0177658  -0.3737824  -1.127723   -1.3478844   0.24365328]\n",
      " [ 2.0878909   0.20041615  0.6167537   0.6629892   2.3143952 ]\n",
      " [-0.14151177 -0.80330545 -0.21123928 -1.1790253   0.03284884]\n",
      " [ 0.539487    1.212395    0.403642    1.5970558  -0.47758824]\n",
      " [ 0.5205614   2.2844124  -1.366578   -0.2373876   0.57463366]\n",
      " [ 3.7111514   0.815574    0.06330846 -0.5888243   1.2415694 ]\n",
      " [ 0.03146185 -1.4856592   1.1336617   0.6136821  -0.0617773 ]\n",
      " [-0.4206859   0.14444557  0.76037586 -0.9725404  -1.958741  ]\n",
      " [-1.5086796  -1.3853263   0.6586033   0.7736675   1.0269285 ]\n",
      " [-0.17357947  1.1148919   0.17835882  1.3033664  -0.25486305]\n",
      " [ 0.02459823 -0.01899356 -1.7448742  -1.7129778   0.41255426]\n",
      " [-1.3737478  -0.5863107  -0.03700965  1.3003745   0.7095315 ]\n",
      " [ 0.22006322  0.14648953  0.48664963 -1.2217503   1.355383  ]]\n",
      "[-1.138836    1.2054052  -0.82558185 -0.80856895  0.8472547 ]\n",
      "[[ 0.17659996 -2.9762359   0.07158267 -1.0417969   0.49393588 -0.96028274\n",
      "   0.8333171  -0.4980239  -0.6900409   1.9962388  -1.0603142   0.8473335\n",
      "   0.8426572  -1.653865    1.1602339   0.1734556   0.23783047]\n",
      " [-0.20584497  0.57387185  0.3225799   0.5686311  -1.2655329  -0.6478312\n",
      "  -0.22646171 -0.83867306 -1.436242    0.31722495 -0.373191   -2.5718713\n",
      "   1.7431372   0.86126065  0.43895233 -0.770815   -0.53514963]\n",
      " [ 0.24753098  1.558604    0.48587885 -0.11480252 -0.33542168 -0.04925451\n",
      "  -0.47319898 -1.1307838   0.21884185  0.5320785   0.7258596   0.31401104\n",
      "   0.30812037  0.81757176 -0.5124889   0.38937205  1.0896374 ]\n",
      " [ 0.9251662   0.06188174 -0.6191797  -0.83846736  0.19739437 -0.38313666\n",
      "   1.081983    0.25311428 -2.4804046   1.7480394   1.0193841   0.86824363\n",
      "  -1.2412465   0.48229954 -1.4015834  -2.4002047   1.0501641 ]\n",
      " [ 0.34270567  2.3401303   0.9980141   0.49865252  0.3492854   1.054202\n",
      "  -0.79834086 -0.19629095 -0.34795952  0.5838666   0.0074898  -0.33246487\n",
      "   0.23113517 -0.18386003  0.5379834   0.17582509  0.43364322]]\n",
      "[ 0.44359902 -0.27803338 -0.42328152 -0.32617134 -0.5773548  -1.5454389\n",
      " -1.5409019   1.9376615   0.23391531  0.8834099  -0.01279923  0.3302636\n",
      "  0.08035764  0.2329651  -0.3039598  -0.26976502  1.3786219 ]\n",
      "Tensor(\"Softmax_3:0\", shape=(?, 17), dtype=float32)\n",
      "loss is :  6.3306384\n",
      "loss is :  6.003785\n",
      "loss is :  5.7422247\n",
      "loss is :  5.525899\n",
      "loss is :  5.342323\n",
      "loss is :  5.1835666\n",
      "loss is :  5.0443106\n",
      "loss is :  4.9207544\n",
      "loss is :  4.8100457\n",
      "loss is :  4.709981\n",
      "[[-0.8257873   1.3286984   0.54250455 -0.15808074 -0.8539352 ]\n",
      " [-0.9589508   0.9713491  -0.3627891  -1.6638018  -1.907897  ]\n",
      " [-0.1741665  -0.09360905 -0.37840837  0.15393735 -1.0298941 ]\n",
      " [ 1.2469442  -1.350294    0.11729776  1.3142833   0.9737002 ]\n",
      " [ 2.9776878  -0.41507795 -1.1000757  -1.2978739   0.2288727 ]\n",
      " [ 2.0601306   0.18181664  0.61310685  0.61605734  2.308013  ]\n",
      " [-0.13032743 -0.81017935 -0.20499213 -1.1025431   0.02260078]\n",
      " [ 0.5422535   1.1973205   0.3922457   1.5933292  -0.4873408 ]\n",
      " [ 0.43372583  2.099868   -1.3432945  -0.09002181  0.5673845 ]\n",
      " [ 3.6509333   0.71488297  0.09178472 -0.5080372   1.2254872 ]\n",
      " [ 0.03389519 -1.4868821   1.1308318   0.59195167 -0.08376759]\n",
      " [-0.33745605  0.14722683  0.77134305 -0.83327353 -1.9419086 ]\n",
      " [-1.4036247  -1.4005508   0.60049915  0.7249247   0.9494518 ]\n",
      " [ 0.02496088  1.0052235   0.1271573   1.2799098  -0.32665795]\n",
      " [-0.0281945   0.03541952 -1.6890235  -1.6739899   0.44575933]\n",
      " [-1.2640599  -0.6538697  -0.08759178  1.2914954   0.6334372 ]\n",
      " [ 0.36942866  0.0742882   0.4109067  -1.1239921   1.2198766 ]]\n",
      "[-0.63927007  0.60527104 -0.92022663 -0.3539638   0.45717436]\n",
      "[[-1.4650574   1.9339695  -0.37772208 -0.51204455 -0.39676082]\n",
      " [-1.5982208   1.5766201  -1.2830157  -2.0177655  -1.4507227 ]\n",
      " [-0.81343657  0.511662   -1.298635   -0.20002644 -0.57271975]\n",
      " [ 0.6076741  -0.74502295 -0.80292886  0.96031946  1.4308746 ]\n",
      " [ 2.3384178   0.19019309 -2.0203023  -1.6518376   0.6860471 ]\n",
      " [ 1.4208605   0.7870877  -0.3071198   0.26209354  2.7651873 ]\n",
      " [-0.76959753 -0.20490831 -1.1252187  -1.456507    0.47977513]\n",
      " [-0.09701657  1.8025916  -0.5279809   1.2393653  -0.03016645]\n",
      " [-0.20554423  2.7051392  -2.2635212  -0.4439856   1.0245588 ]\n",
      " [ 3.0116632   1.320154   -0.8284419  -0.862001    1.6826615 ]\n",
      " [-0.6053749  -0.88161105  0.2106052   0.23798788  0.37340677]\n",
      " [-0.9767261   0.75249785 -0.14888358 -1.1872373  -1.4847343 ]\n",
      " [-2.0428948  -0.7952798  -0.31972748  0.3709609   1.4066262 ]\n",
      " [-0.6143092   1.6104946  -0.79306936  0.92594606  0.13051641]\n",
      " [-0.66746455  0.64069057 -2.60925    -2.0279536   0.9029337 ]\n",
      " [-1.90333    -0.04859865 -1.0078185   0.93753165  1.0906116 ]\n",
      " [-0.2698414   0.67955923 -0.5093199  -1.4779558   1.6770511 ]]\n",
      "[-0.9767261   0.75249785 -0.14888358 -1.1872373  -1.4847343 ]\n"
     ]
    }
   ],
   "source": [
    "x = tf.placeholder(tf.float32, shape = (None, vocab_size))\n",
    "y_label = tf.placeholder(tf.float32, shape = (None, vocab_size))\n",
    "\n",
    "#sess2 = tf.InteractiveSession()\n",
    "\n",
    "EMBEDDING_DIM = 5\n",
    "\n",
    "W1 = tf.Variable(tf.random_normal([vocab_size,EMBEDDING_DIM]))\n",
    "b1 = tf.Variable(tf.random_normal([EMBEDDING_DIM]))\n",
    "\n",
    "#tf.Print (W1,[W1])\n",
    "#tf.Print (b1,[b1])\n",
    "\n",
    "hidden_representation = tf.add(tf.matmul(x,W1),b1)\n",
    "\n",
    "#\n",
    "\n",
    "W2 = tf.Variable(tf.random_normal([EMBEDDING_DIM,vocab_size]))\n",
    "b2 = tf.Variable(tf.random_normal([vocab_size]))\n",
    "\n",
    "prediction = tf.nn.softmax(tf.add(tf.matmul(hidden_representation, W2),b2))\n",
    "\n",
    "sess = tf.Session()\n",
    "init = tf.global_variables_initializer()\n",
    "sess.run(init)\n",
    "\n",
    "print(sess.run(W1))\n",
    "print(sess.run(b1))\n",
    "\n",
    "#print(sess.run(hidden_representation))\n",
    "\n",
    "print(sess.run(W2))\n",
    "print(sess.run(b2))\n",
    "\n",
    "#tm= tf.add(tf.matmul(hidden_representation, W2),b2)\n",
    "#print(sess.run(tm))\n",
    "#pred = tf.nn.softmax(tm)\n",
    "print((prediction))\n",
    "\n",
    "cross_entropy_loss = tf.reduce_mean(- tf.reduce_sum(y_label * tf.log(prediction), reduction_indices = [1]))\n",
    "#print(sess.run(cross_entropy_loss))\n",
    "\n",
    "train_step = tf.train.GradientDescentOptimizer(0.1).minimize(cross_entropy_loss)\n",
    "\n",
    "n_iters = 10\n",
    "\n",
    "for _ in range (n_iters):\n",
    "    sess.run(train_step, feed_dict = {x:x_train, y_label:y_train})\n",
    "    print('loss is : ', sess.run(cross_entropy_loss, feed_dict= {x:x_train, y_label:y_train}))\n",
    "\n",
    "\n",
    "print(sess.run(W1))\n",
    "print(sess.run(b1))\n",
    "\n",
    "vectors = sess.run(W1+b1)\n",
    "\n",
    "print (vectors)\n",
    "\n",
    "print (vectors[word2int['school']])"
   ]
  },
  {
   "cell_type": "code",
   "execution_count": 29,
   "metadata": {},
   "outputs": [
    {
     "name": "stdout",
     "output_type": "stream",
     "text": [
      "[[-1.4650574   1.9339695  -0.37772208 -0.51204455 -0.39676082]\n",
      " [-1.5982208   1.5766201  -1.2830157  -2.0177655  -1.4507227 ]\n",
      " [-0.81343657  0.511662   -1.298635   -0.20002644 -0.57271975]\n",
      " [ 0.6076741  -0.74502295 -0.80292886  0.96031946  1.4308746 ]\n",
      " [ 2.3384178   0.19019309 -2.0203023  -1.6518376   0.6860471 ]\n",
      " [ 1.4208605   0.7870877  -0.3071198   0.26209354  2.7651873 ]\n",
      " [-0.76959753 -0.20490831 -1.1252187  -1.456507    0.47977513]\n",
      " [-0.09701657  1.8025916  -0.5279809   1.2393653  -0.03016645]\n",
      " [-0.20554423  2.7051392  -2.2635212  -0.4439856   1.0245588 ]\n",
      " [ 3.0116632   1.320154   -0.8284419  -0.862001    1.6826615 ]\n",
      " [-0.6053749  -0.88161105  0.2106052   0.23798788  0.37340677]\n",
      " [-0.9767261   0.75249785 -0.14888358 -1.1872373  -1.4847343 ]\n",
      " [-2.0428948  -0.7952798  -0.31972748  0.3709609   1.4066262 ]\n",
      " [-0.6143092   1.6104946  -0.79306936  0.92594606  0.13051641]\n",
      " [-0.66746455  0.64069057 -2.60925    -2.0279536   0.9029337 ]\n",
      " [-1.90333    -0.04859865 -1.0078185   0.93753165  1.0906116 ]\n",
      " [-0.2698414   0.67955923 -0.5093199  -1.4779558   1.6770511 ]]\n"
     ]
    }
   ],
   "source": [
    "print (vectors)"
   ]
  },
  {
   "cell_type": "code",
   "execution_count": 34,
   "metadata": {},
   "outputs": [],
   "source": [
    "np.savetxt(\"myvectors.txt\", vectors)"
   ]
  },
  {
   "cell_type": "code",
   "execution_count": 35,
   "metadata": {},
   "outputs": [],
   "source": [
    "y = np.loadtxt(\"myvectors.txt\")"
   ]
  },
  {
   "cell_type": "code",
   "execution_count": 36,
   "metadata": {},
   "outputs": [
    {
     "name": "stdout",
     "output_type": "stream",
     "text": [
      "[-0.97672611  0.75249785 -0.14888358 -1.18723726 -1.4847343 ]\n"
     ]
    }
   ],
   "source": [
    "print (y[word2int['school']])"
   ]
  },
  {
   "cell_type": "code",
   "execution_count": 33,
   "metadata": {},
   "outputs": [
    {
     "name": "stdout",
     "output_type": "stream",
     "text": [
      "[-0.9767261   0.75249785 -0.14888358 -1.1872373  -1.4847343 ]\n"
     ]
    }
   ],
   "source": [
    "print (vectors[word2int['school']])"
   ]
  },
  {
   "cell_type": "code",
   "execution_count": 14,
   "metadata": {},
   "outputs": [
    {
     "name": "stdout",
     "output_type": "stream",
     "text": [
      "group\n",
      "is\n",
      "we\n",
      "a 0.22120221595716374\n",
      "machine 0.9161398165577012\n",
      "are -0.46312807509274795\n",
      "the -0.15657729265613732\n",
      "computer 0.970804773340649\n",
      "we 0.9949678502159615\n",
      "uef 0.15784838811097154\n",
      "campus 0.6008293367782728\n",
      "in -0.13567740676920315\n",
      "computing -0.9385368351616304\n",
      "joensuu 0.24860686664051637\n",
      "school -0.650773310371467\n",
      "group -0.5394836877096498\n",
      "is -0.9706256111757875\n",
      "learning 0.6915203626461481\n",
      "science 0.9245590243842509\n",
      "of -0.9127988618354683\n"
     ]
    },
    {
     "data": {
      "image/png": "[encoded data removed]",
      "text/plain": [
       "<matplotlib.figure.Figure at 0x7f3ed7031358>"
      ]
     },
     "metadata": {
      "needs_background": "light"
     },
     "output_type": "display_data"
    }
   ],
   "source": [
    "\n",
    "def euclidean_dist(vec1,vec2):\n",
    "    return np.sqrt(np.sum((vec1-vec2)**2))\n",
    "\n",
    "def find_closest(word_index, vectors):\n",
    "    min_dist = 100000\n",
    "    min_index = -1\n",
    "    query_vector = vectors[word_index]\n",
    "    for index, vector in enumerate(vectors):\n",
    "        if euclidean_dist(vector, query_vector)< min_dist and not np.array_equal(vector, query_vector):\n",
    "            min_dist = euclidean_dist(vector, query_vector)\n",
    "            min_index = index\n",
    "    return min_index\n",
    "\n",
    "print(int2word[find_closest(word2int['school'],vectors)])\n",
    "print(int2word[find_closest(word2int['computing'],vectors)])\n",
    "print(int2word[find_closest(word2int['computer'],vectors)])\n",
    "\n",
    "\n",
    "from sklearn.manifold import TSNE\n",
    "\n",
    "model = TSNE(n_components =2, random_state =0)\n",
    "np.set_printoptions(suppress=True)\n",
    "vectors = model.fit_transform(vectors)\n",
    "\n",
    "from sklearn import preprocessing\n",
    "normalizer = preprocessing.Normalizer()\n",
    "vectors = normalizer.fit_transform(vectors,'l2')\n",
    "\n",
    "%matplotlib inline\n",
    "import matplotlib.pyplot as plt\n",
    "plt.rcParams[\"figure.figsize\"] = [26,19]\n",
    "fig, ax = plt.subplots()\n",
    "\n",
    "#plt.xlim(-0.0003,0.0003)\n",
    "#plt.ylim(-0.0003,0.0003)\n",
    "plt.xlim(-1,1.15)\n",
    "plt.ylim(-1,1.15)\n",
    "for word in words:\n",
    "    print(word, vectors[word2int[word]][1])\n",
    "    ax.annotate(word,(vectors[word2int[word]][0],vectors[word2int[word]][1]))\n",
    "plt.show()\n"
   ]
  },
  {
   "cell_type": "code",
   "execution_count": null,
   "metadata": {},
   "outputs": [],
   "source": []
  }
 ],
 "metadata": {
  "kernelspec": {
   "display_name": "Python 3",
   "language": "python",
   "name": "python3"
  },
  "language_info": {
   "codemirror_mode": {
    "name": "ipython",
    "version": 3
   },
   "file_extension": ".py",
   "mimetype": "text/x-python",
   "name": "python",
   "nbconvert_exporter": "python",
   "pygments_lexer": "ipython3",
   "version": "3.4.9"
  }
 },
 "nbformat": 4,
 "nbformat_minor": 2
}
